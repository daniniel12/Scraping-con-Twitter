{
  "cells": [
    {
      "cell_type": "code",
      "execution_count": 7,
      "metadata": {
        "colab": {
          "base_uri": "https://localhost:8080/"
        },
        "id": "fN4ejW2GziVk",
        "outputId": "929d2811-ebe8-429b-ad59-5e0809f4df66"
      },
      "outputs": [
        {
          "name": "stdout",
          "output_type": "stream",
          "text": [
            "User(_api=<tweepy.api.API object at 0x7f7947b488d0>, _json={'id': 377174771, 'id_str': '377174771', 'name': 'Cristhiam Daniel', 'screen_name': 'camposjulca73', 'location': 'Bogotá, D.C., Colombia', 'profile_location': None, 'description': \"Mechanical Engineer\\nMathematician\\nProgramming lover:: Self-taught.\\nPython Developer and Data Scientist.\\n\\nI'm passionate about science and technology.\", 'url': 'https://t.co/ADwfbpHYI6', 'entities': {'url': {'urls': [{'url': 'https://t.co/ADwfbpHYI6', 'expanded_url': 'http://camposjulca.com', 'display_url': 'camposjulca.com', 'indices': [0, 23]}]}, 'description': {'urls': []}}, 'protected': False, 'followers_count': 86, 'friends_count': 354, 'listed_count': 0, 'created_at': 'Wed Sep 21 04:22:36 +0000 2011', 'favourites_count': 86, 'utc_offset': None, 'time_zone': None, 'geo_enabled': True, 'verified': False, 'statuses_count': 230, 'lang': None, 'status': {'created_at': 'Wed Jun 01 20:54:21 +0000 2022', 'id': 1532103277218779137, 'id_str': '1532103277218779137', 'text': 'magdalena contreras', 'truncated': False, 'entities': {'hashtags': [], 'symbols': [], 'user_mentions': [], 'urls': []}, 'source': '<a href=\"https://mobile.twitter.com\" rel=\"nofollow\">Twitter Web App</a>', 'in_reply_to_status_id': None, 'in_reply_to_status_id_str': None, 'in_reply_to_user_id': None, 'in_reply_to_user_id_str': None, 'in_reply_to_screen_name': None, 'geo': None, 'coordinates': None, 'place': None, 'contributors': None, 'is_quote_status': False, 'retweet_count': 0, 'favorite_count': 0, 'favorited': False, 'retweeted': False, 'lang': 'es'}, 'contributors_enabled': False, 'is_translator': False, 'is_translation_enabled': False, 'profile_background_color': '022330', 'profile_background_image_url': 'http://abs.twimg.com/images/themes/theme15/bg.png', 'profile_background_image_url_https': 'https://abs.twimg.com/images/themes/theme15/bg.png', 'profile_background_tile': False, 'profile_image_url': 'http://pbs.twimg.com/profile_images/1511047571069972484/MahgxqPI_normal.jpg', 'profile_image_url_https': 'https://pbs.twimg.com/profile_images/1511047571069972484/MahgxqPI_normal.jpg', 'profile_banner_url': 'https://pbs.twimg.com/profile_banners/377174771/1649096791', 'profile_link_color': 'ABB8C2', 'profile_sidebar_border_color': 'A8C7F7', 'profile_sidebar_fill_color': 'C0DFEC', 'profile_text_color': '333333', 'profile_use_background_image': True, 'has_extended_profile': False, 'default_profile': False, 'default_profile_image': False, 'following': False, 'follow_request_sent': False, 'notifications': False, 'translator_type': 'none', 'withheld_in_countries': [], 'suspended': False, 'needs_phone_verification': False}, id=377174771, id_str='377174771', name='Cristhiam Daniel', screen_name='camposjulca73', location='Bogotá, D.C., Colombia', profile_location=None, description=\"Mechanical Engineer\\nMathematician\\nProgramming lover:: Self-taught.\\nPython Developer and Data Scientist.\\n\\nI'm passionate about science and technology.\", url='https://t.co/ADwfbpHYI6', entities={'url': {'urls': [{'url': 'https://t.co/ADwfbpHYI6', 'expanded_url': 'http://camposjulca.com', 'display_url': 'camposjulca.com', 'indices': [0, 23]}]}, 'description': {'urls': []}}, protected=False, followers_count=86, friends_count=354, listed_count=0, created_at=datetime.datetime(2011, 9, 21, 4, 22, 36), favourites_count=86, utc_offset=None, time_zone=None, geo_enabled=True, verified=False, statuses_count=230, lang=None, status=Status(_api=<tweepy.api.API object at 0x7f7947b488d0>, _json={'created_at': 'Wed Jun 01 20:54:21 +0000 2022', 'id': 1532103277218779137, 'id_str': '1532103277218779137', 'text': 'magdalena contreras', 'truncated': False, 'entities': {'hashtags': [], 'symbols': [], 'user_mentions': [], 'urls': []}, 'source': '<a href=\"https://mobile.twitter.com\" rel=\"nofollow\">Twitter Web App</a>', 'in_reply_to_status_id': None, 'in_reply_to_status_id_str': None, 'in_reply_to_user_id': None, 'in_reply_to_user_id_str': None, 'in_reply_to_screen_name': None, 'geo': None, 'coordinates': None, 'place': None, 'contributors': None, 'is_quote_status': False, 'retweet_count': 0, 'favorite_count': 0, 'favorited': False, 'retweeted': False, 'lang': 'es'}, created_at=datetime.datetime(2022, 6, 1, 20, 54, 21), id=1532103277218779137, id_str='1532103277218779137', text='magdalena contreras', truncated=False, entities={'hashtags': [], 'symbols': [], 'user_mentions': [], 'urls': []}, source='Twitter Web App', source_url='https://mobile.twitter.com', in_reply_to_status_id=None, in_reply_to_status_id_str=None, in_reply_to_user_id=None, in_reply_to_user_id_str=None, in_reply_to_screen_name=None, geo=None, coordinates=None, place=None, contributors=None, is_quote_status=False, retweet_count=0, favorite_count=0, favorited=False, retweeted=False, lang='es'), contributors_enabled=False, is_translator=False, is_translation_enabled=False, profile_background_color='022330', profile_background_image_url='http://abs.twimg.com/images/themes/theme15/bg.png', profile_background_image_url_https='https://abs.twimg.com/images/themes/theme15/bg.png', profile_background_tile=False, profile_image_url='http://pbs.twimg.com/profile_images/1511047571069972484/MahgxqPI_normal.jpg', profile_image_url_https='https://pbs.twimg.com/profile_images/1511047571069972484/MahgxqPI_normal.jpg', profile_banner_url='https://pbs.twimg.com/profile_banners/377174771/1649096791', profile_link_color='ABB8C2', profile_sidebar_border_color='A8C7F7', profile_sidebar_fill_color='C0DFEC', profile_text_color='333333', profile_use_background_image=True, has_extended_profile=False, default_profile=False, default_profile_image=False, following=False, follow_request_sent=False, notifications=False, translator_type='none', withheld_in_countries=[], suspended=False, needs_phone_verification=False)\n"
          ]
        }
      ],
      "source": [
        "#enlace al github: https://github.com/daniniel12/Twitter.git\n",
        "import tweepy\n",
        "import json\n",
        "consumer_key = \"K4w3BdA2256jIKBpYBjHISM8L\"\n",
        "consumer_secret = \"681Rjqm0Nw9coNoxPLlqDMASEZQ96TPPph5UqRBJlVhzWZRLEk\"\n",
        "acces_token = \"377174771-c6YHNTRNlHDeb7oW4hlAI0uO30vJKrdC2rmzcNCx\"\n",
        "acces_token_secret = \"WyJgZLs69RzdqxYbgiScBRp9kIRjte1nLmvm1b2ab62R2\"\n",
        "\n",
        "\n",
        "auth = tweepy.OAuthHandler(consumer_key, consumer_secret)\n",
        "auth.set_access_token(acces_token, acces_token_secret)\n",
        "\n",
        "\n",
        "api = tweepy.API(auth, \n",
        "                 wait_on_rate_limit=True,\n",
        "                 wait_on_rate_limit_notify=True)\n",
        "data = api.me()\n",
        "print(data)"
      ]
    },
    {
      "cell_type": "code",
      "execution_count": null,
      "metadata": {
        "colab": {
          "base_uri": "https://localhost:8080/"
        },
        "id": "WHwbmrqUznmn",
        "outputId": "204e0079-faa1-47fd-aae1-2c69f668ca7e"
      },
      "outputs": [
        {
          "name": "stdout",
          "output_type": "stream",
          "text": [
            "Estoy conectado\n",
            "@Carlos37595998 @mariaLch16 No, el 9 que esperaba era Borja Garcés, no se hizo, fin.\n"
          ]
        }
      ],
      "source": [
        "#datos en tiempo real\n",
        "from tweepy import streaming\n",
        "import tweepy\n",
        "class TweetsListener(tweepy.StreamListener):\n",
        "  #métodos\n",
        "  def on_connect(self):\n",
        "    print(\"Estoy conectado\")\n",
        "  def on_status(self,status):\n",
        "    print(status.text)\n",
        "  def on_error(self, status_code):\n",
        "    print(\"Error\", status_code)\n",
        "\n",
        "consumer_key = \"K4w3BdA2256jIKBpYBjHISM8L\"\n",
        "consumer_secret = \"681Rjqm0Nw9coNoxPLlqDMASEZQ96TPPph5UqRBJlVhzWZRLEk\"\n",
        "acces_token = \"377174771-c6YHNTRNlHDeb7oW4hlAI0uO30vJKrdC2rmzcNCx\"\n",
        "acces_token_secret = \"WyJgZLs69RzdqxYbgiScBRp9kIRjte1nLmvm1b2ab62R2\"\n",
        "\n",
        "auth = tweepy.OAuthHandler(consumer_key, consumer_secret)\n",
        "auth.set_access_token(acces_token, acces_token_secret)\n",
        "\n",
        "\n",
        "api = tweepy.API(auth, \n",
        "                 wait_on_rate_limit=True,\n",
        "                 wait_on_rate_limit_notify=True)\n",
        "\n",
        "stream = TweetsListener()\n",
        "streamingApi=tweepy.Stream(auth=api.auth, listener=stream)\n",
        "\n",
        "streamingApi.filter(locations=[-3.6989487771,40.4370265054,-3.6955738976,40.4420565266])\n"
      ]
    }
  ],
  "metadata": {
    "colab": {
      "name": "Untitled1.ipynb",
      "provenance": []
    },
    "kernelspec": {
      "display_name": "Python 3",
      "name": "python3"
    },
    "language_info": {
      "name": "python"
    }
  },
  "nbformat": 4,
  "nbformat_minor": 0
}
